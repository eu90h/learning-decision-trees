{
 "cells": [
  {
   "cell_type": "code",
   "execution_count": 1,
   "metadata": {},
   "outputs": [],
   "source": [
    "from decision_tree import *"
   ]
  },
  {
   "cell_type": "code",
   "execution_count": 2,
   "metadata": {},
   "outputs": [
    {
     "data": {
      "text/plain": [
       "array([[1, 0, 0, 1, 1, 2, 0, 1, 0, 0, 1],\n",
       "       [1, 0, 0, 1, 2, 0, 0, 0, 1, 2, 0],\n",
       "       [0, 1, 0, 0, 1, 0, 0, 0, 2, 0, 1],\n",
       "       [1, 0, 1, 1, 2, 0, 1, 0, 1, 1, 1],\n",
       "       [1, 0, 1, 0, 2, 2, 0, 1, 0, 3, 0],\n",
       "       [0, 1, 0, 1, 1, 1, 1, 1, 3, 0, 1],\n",
       "       [0, 1, 0, 0, 0, 0, 1, 0, 2, 0, 0],\n",
       "       [0, 0, 0, 1, 1, 1, 1, 1, 1, 0, 1],\n",
       "       [0, 1, 1, 0, 2, 0, 1, 0, 2, 3, 0],\n",
       "       [1, 1, 1, 1, 2, 2, 0, 1, 3, 1, 0],\n",
       "       [0, 0, 0, 0, 0, 0, 0, 0, 1, 0, 0],\n",
       "       [1, 1, 1, 1, 2, 0, 0, 0, 2, 2, 1]])"
      ]
     },
     "execution_count": 2,
     "metadata": {},
     "output_type": "execute_result"
    }
   ],
   "source": [
    "data = [\n",
    "    [\"Yes\", \"No\", \"No\", \"Yes\", \"Some\", \"$$$\", \"No\", \"Yes\", \"French\", \"0-10\", \"Yes\"],\n",
    "    [\"Yes\", \"No\", \"No\", \"Yes\", \"Full\", \"$\", \"No\", \"No\", \"Thai\", \"30-60\", \"No\"],\n",
    "    [\"No\", \"Yes\", \"No\", \"No\", \"Some\", \"$\", \"No\", \"No\", \"Burger\", \"0-10\", \"Yes\"],\n",
    "    [\"Yes\", \"No\", \"Yes\", \"Yes\", \"Full\", \"$\", \"Yes\", \"No\", \"Thai\", \"10-30\", \"Yes\"],\n",
    "    [\"Yes\", \"No\", \"Yes\", \"No\", \"Full\", \"$$$\", \"No\", \"Yes\", \"French\", \">60\", \"No\"],\n",
    "    [\"No\", \"Yes\", \"No\", \"Yes\", \"Some\", \"$$\", \"Yes\", \"Yes\", \"Italian\", \"0-10\", \"Yes\"],\n",
    "    [\"No\", \"Yes\", \"No\", \"No\", \"None\", \"$\", \"Yes\", \"No\", \"Burger\", \"0-10\", \"No\"],\n",
    "    [\"No\", \"No\", \"No\", \"Yes\", \"Some\", \"$$\", \"Yes\", \"Yes\", \"Thai\", \"0-10\", \"Yes\"],\n",
    "    [\"No\", \"Yes\", \"Yes\", \"No\", \"Full\" , \"$\", \"Yes\", \"No\", \"Burger\", \">60\", \"No\"],\n",
    "    [\"Yes\", \"Yes\", \"Yes\", \"Yes\", \"Full\", \"$$$\", \"No\", \"Yes\", \"Italian\", \"10-30\", \"No\"],\n",
    "    [\"No\", \"No\", \"No\", \"No\", \"None\", \"$\", \"No\", \"No\", \"Thai\", \"0-10\", \"No\"],\n",
    "    [\"Yes\", \"Yes\", \"Yes\", \"Yes\", \"Full\", \"$\", \"No\", \"No\", \"Burger\", \"30-60\", \"Yes\"]\n",
    "]\n",
    "\n",
    "encoded_data = RestaurantDomainEncoder().encode(data)\n",
    "encoded_data"
   ]
  },
  {
   "cell_type": "code",
   "execution_count": 3,
   "metadata": {},
   "outputs": [
    {
     "data": {
      "text/plain": [
       "array([0, 1, 2, 1, 0, 3, 2, 1, 2, 3, 1, 2])"
      ]
     },
     "execution_count": 3,
     "metadata": {},
     "output_type": "execute_result"
    }
   ],
   "source": [
    "encoded_data[:, RestaurantDomainEncoder.attribute_encoding[\"Type\"]]"
   ]
  },
  {
   "cell_type": "code",
   "execution_count": 4,
   "metadata": {},
   "outputs": [],
   "source": [
    "ppa = lambda a: RestaurantDomainEncoder.attribute_decoding[a]"
   ]
  },
  {
   "cell_type": "code",
   "execution_count": 5,
   "metadata": {},
   "outputs": [],
   "source": [
    "dt = DecisionTreeLearning().learn(encoded_data, [i for i in range(0, len(encoded_data[0]) - 1)], [])"
   ]
  },
  {
   "cell_type": "code",
   "execution_count": 6,
   "metadata": {},
   "outputs": [
    {
     "data": {
      "text/plain": [
       "'Pat'"
      ]
     },
     "execution_count": 6,
     "metadata": {},
     "output_type": "execute_result"
    }
   ],
   "source": [
    "ppa(dt.attribute_to_test)"
   ]
  },
  {
   "cell_type": "code",
   "execution_count": 7,
   "metadata": {},
   "outputs": [
    {
     "data": {
      "text/plain": [
       "{0: 0, 1: 1, 2: <decision_tree.DecisionTree at 0x7fc9d08ddad0>}"
      ]
     },
     "execution_count": 7,
     "metadata": {},
     "output_type": "execute_result"
    }
   ],
   "source": [
    "dt.children"
   ]
  },
  {
   "cell_type": "code",
   "execution_count": 8,
   "metadata": {},
   "outputs": [
    {
     "data": {
      "text/plain": [
       "'Hun'"
      ]
     },
     "execution_count": 8,
     "metadata": {},
     "output_type": "execute_result"
    }
   ],
   "source": [
    "ppa(dt.children[2].attribute_to_test)"
   ]
  },
  {
   "cell_type": "code",
   "execution_count": 9,
   "metadata": {},
   "outputs": [
    {
     "data": {
      "text/plain": [
       "{0: 0, 1: <decision_tree.DecisionTree at 0x7fc9d08efb90>}"
      ]
     },
     "execution_count": 9,
     "metadata": {},
     "output_type": "execute_result"
    }
   ],
   "source": [
    "dt.children[2].children"
   ]
  },
  {
   "cell_type": "code",
   "execution_count": 10,
   "metadata": {},
   "outputs": [
    {
     "data": {
      "text/plain": [
       "'Rain'"
      ]
     },
     "execution_count": 10,
     "metadata": {},
     "output_type": "execute_result"
    }
   ],
   "source": [
    "ppa(dt.children[2].children[1].attribute_to_test)"
   ]
  },
  {
   "cell_type": "code",
   "execution_count": 19,
   "metadata": {},
   "outputs": [
    {
     "name": "stdout",
     "output_type": "stream",
     "text": [
      "accuracy: 1.0 (12/12)\n"
     ]
    }
   ],
   "source": [
    "n_correct = 0\n",
    "total = 0\n",
    "for e in encoded_data:\n",
    "    if dt(e) == e[-1]:\n",
    "        n_correct += 1\n",
    "    total += 1\n",
    "accuracy = float(n_correct)/float(total)\n",
    "print(f\"accuracy: {accuracy} ({n_correct}/{total})\")"
   ]
  }
 ],
 "metadata": {
  "kernelspec": {
   "display_name": "Python 3",
   "language": "python",
   "name": "python3"
  },
  "language_info": {
   "codemirror_mode": {
    "name": "ipython",
    "version": 3
   },
   "file_extension": ".py",
   "mimetype": "text/x-python",
   "name": "python",
   "nbconvert_exporter": "python",
   "pygments_lexer": "ipython3",
   "version": "3.11.6"
  }
 },
 "nbformat": 4,
 "nbformat_minor": 2
}
